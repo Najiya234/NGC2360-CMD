{
 "cells": [
  {
   "cell_type": "markdown",
   "metadata": {
    "id": "Js9eHmw7qEh_"
   },
   "source": [
    "## NGC 2360 – Color-Magnitude Diagram with PARSEC Isochrone\n",
    "\n",
    "**Introduction**\n",
    "\n",
    "Open clusters are excellent laboratories for studying stellar evolution because their stars share a common age, distance, and chemical composition. A powerful way to analyze clusters is through the Color–Magnitude Diagram (CMD), which plots stellar color (e.g. BP–RP) against brightness (G). With Gaia DR3’s precise photometry and parallaxes, we can construct CMDs for clusters like NGC 2360 and compare them with theoretical PARSEC isochrones. This allows us to estimate cluster properties such as age, metallicity, distance modulus, and extinction.\n",
    "\n",
    "**Aim**\n",
    "\n",
    "To construct a Color–Magnitude Diagram (CMD) for the open cluster NGC 2360 using Gaia DR3 photometry and overlay theoretical PARSEC isochrones for comparison.\n",
    "\n",
    "**Objectives**\n",
    "\n",
    "1. Retrieve Gaia DR3 photometry (G, BP, RP) for stars in the cluster field.\n",
    "2. Prepare and clean the data to compute colors (BP–RP) and magnitudes.\n",
    "3. Plot the CMD and highlight probable cluster members.\n",
    "4. Obtain and load PARSEC isochrones into Python.\n",
    "5. Apply distance modulus and extinction corrections to overlay isochrones.\n",
    "6. Compare observations with theory to estimate cluster parameters."
   ]
  },
  {
   "cell_type": "markdown",
   "metadata": {
    "id": "cZnp2JivPtqM"
   },
   "source": [
    "#Reterieving Data\n",
    "In this step, we will retrieve Gaia DR3 photometric data for the open cluster **NGC 2360**.\n",
    "We will collect the **G**, **BP**, and **RP** magnitudes of stars in the cluster region, which will form the basis of our **Color–Magnitude Diagram (CMD)**.\n",
    "This step ensures we have clean, usable data to plot the CMD and compare with theoretical isochrones in later steps."
   ]
  },
  {
   "cell_type": "code",
   "execution_count": null,
   "metadata": {
    "colab": {
     "base_uri": "https://localhost:8080/"
    },
    "executionInfo": {
     "elapsed": 10958,
     "status": "ok",
     "timestamp": 1759398423881,
     "user": {
      "displayName": "Najiya K K",
      "userId": "00383876615823091578"
     },
     "user_tz": -330
    },
    "id": "hPkrrZ-Bpzto",
    "outputId": "e4faf18f-c37f-4033-91cd-c0e46e44b0da"
   },
   "outputs": [],
   "source": [
    "!pip install --quiet astroquery\n",
    "\n",
    "# --- Imports ---\n",
    "import numpy as np\n",
    "import pandas as pd\n",
    "import matplotlib.pyplot as plt\n",
    "\n",
    "from astropy.coordinates import SkyCoord\n",
    "import astropy.units as u\n",
    "from astroquery.gaia import Gaia\n",
    "\n",
    "# --- Plot style ---\n",
    "plt.rcParams.update({'figure.figsize': (7,8), 'font.size': 12})\n",
    "\n",
    "print(\"Setup complete ✅\")\n"
   ]
  },
  {
   "cell_type": "markdown",
   "metadata": {
    "id": "Nx4NvTazqcHz"
   },
   "source": [
    "We retrieve Gaia DR3 data for NGC 2360 using a cone search around the cluster’s center (RA = 07h17m43.1s, Dec = −15°38′29″) with a radius of about 7 arcmin. The query fetches the photometric bands (G, BP, RP), parallaxes, and proper motions. These will be used to construct the CMD and apply basic membership filtering."
   ]
  },
  {
   "cell_type": "code",
   "execution_count": null,
   "metadata": {
    "colab": {
     "base_uri": "https://localhost:8080/",
     "height": 275
    },
    "executionInfo": {
     "elapsed": 3998,
     "status": "ok",
     "timestamp": 1759398480862,
     "user": {
      "displayName": "Najiya K K",
      "userId": "00383876615823091578"
     },
     "user_tz": -330
    },
    "id": "K7xVpVN8qgBi",
    "outputId": "05955c3f-05e9-488d-952e-63225a427198"
   },
   "outputs": [],
   "source": [
    "# Define cluster center (NGC 2360) and search radius\n",
    "coord = SkyCoord(\"07h17m43.1 -15d38m29.0\", frame='icrs')\n",
    "radius_deg = 0.12   # ~7.2 arcmin\n",
    "\n",
    "ra_deg = coord.ra.deg\n",
    "dec_deg = coord.dec.deg\n",
    "\n",
    "# ADQL query for Gaia DR3\n",
    "adql = f\"\"\"\n",
    "SELECT source_id, ra, dec, parallax, parallax_error,\n",
    "       phot_g_mean_mag, phot_bp_mean_mag, phot_rp_mean_mag,\n",
    "       pmra, pmdec\n",
    "FROM gaiadr3.gaia_source\n",
    "WHERE 1=CONTAINS(POINT('ICRS', ra, dec),\n",
    "                 CIRCLE('ICRS', {ra_deg:.6f}, {dec_deg:.6f}, {radius_deg}))\n",
    "  AND phot_g_mean_mag IS NOT NULL\n",
    "\"\"\"\n",
    "\n",
    "print(\"Submitting query to Gaia Archive...\")\n",
    "job = Gaia.launch_job_async(adql)\n",
    "tbl = job.get_results()\n",
    "df = tbl.to_pandas()\n",
    "\n",
    "print(f\"Rows retrieved: {len(df)}\")\n",
    "df.head()\n"
   ]
  },
  {
   "cell_type": "markdown",
   "metadata": {
    "id": "8BUSKHlwqr6C"
   },
   "source": [
    "##Preparing Data for CMD\n",
    "\n",
    "We clean the Gaia photometry by removing stars with missing values and compute the color index (BP–RP). A magnitude cut is applied to exclude faint stars with large uncertainties. For a first-pass membership selection, we use the cluster’s median parallax to identify probable members."
   ]
  },
  {
   "cell_type": "code",
   "execution_count": null,
   "metadata": {
    "colab": {
     "base_uri": "https://localhost:8080/",
     "height": 261
    },
    "executionInfo": {
     "elapsed": 75,
     "status": "ok",
     "timestamp": 1759398485125,
     "user": {
      "displayName": "Najiya K K",
      "userId": "00383876615823091578"
     },
     "user_tz": -330
    },
    "id": "03HmSBNVq7Oh",
    "outputId": "0b2de4d7-72f4-4f34-8f7b-dba3c1563571"
   },
   "outputs": [],
   "source": [
    "# Remove rows with missing photometry\n",
    "df = df.dropna(subset=['phot_bp_mean_mag', 'phot_rp_mean_mag', 'phot_g_mean_mag']).copy()\n",
    "\n",
    "# Compute color index\n",
    "df['bp_rp'] = df['phot_bp_mean_mag'] - df['phot_rp_mean_mag']\n",
    "\n",
    "# Apply a faint magnitude cut to reduce noise (adjust as needed)\n",
    "df = df[df['phot_g_mean_mag'] < 19.5]\n",
    "\n",
    "# --- Simple membership filtering using parallax ---\n",
    "par_ok = df['parallax'] > 0\n",
    "if par_ok.sum() > 5:\n",
    "    par_med = df.loc[par_ok, 'parallax'].median()\n",
    "    par_std = df.loc[par_ok, 'parallax'].std()\n",
    "    print(f\"Median parallax = {par_med:.3f} mas (std = {par_std:.3f})\")\n",
    "\n",
    "    # Define probable members as stars within ±2σ of the median parallax\n",
    "    member_mask = (df['parallax'] > par_med - 2*par_std) & (df['parallax'] < par_med + 2*par_std)\n",
    "else:\n",
    "    member_mask = np.full(len(df), False)\n",
    "\n",
    "df['prob_member_simple'] = member_mask\n",
    "\n",
    "print(f\"Probable members selected: {df['prob_member_simple'].sum()}\")\n",
    "df.head()\n"
   ]
  },
  {
   "cell_type": "markdown",
   "metadata": {
    "id": "_199KrJdrFLH"
   },
   "source": [
    "##Plotting the Color–Magnitude Diagram\n",
    "\n",
    "We plot BP–RP color vs. G magnitude to visualize the cluster’s stellar population. Since brighter stars have smaller magnitudes, the y-axis is inverted. Probable members (based on parallax selection) are highlighted to reveal the main sequence and possible turn-off region."
   ]
  },
  {
   "cell_type": "code",
   "execution_count": null,
   "metadata": {
    "colab": {
     "base_uri": "https://localhost:8080/",
     "height": 727
    },
    "executionInfo": {
     "elapsed": 342,
     "status": "ok",
     "timestamp": 1759398495650,
     "user": {
      "displayName": "Najiya K K",
      "userId": "00383876615823091578"
     },
     "user_tz": -330
    },
    "id": "ZyUXjcyIrF_7",
    "outputId": "2c32879d-0775-4a52-94c8-efa0c65827dd"
   },
   "outputs": [],
   "source": [
    "import matplotlib.pyplot as plt\n",
    "\n",
    "# Separate members and field stars\n",
    "members = df[df['prob_member_simple']]\n",
    "field = df[~df['prob_member_simple']]\n",
    "\n",
    "plt.figure(figsize=(6,8))\n",
    "\n",
    "# Field stars in gray\n",
    "plt.scatter(field['bp_rp'], field['phot_g_mean_mag'],\n",
    "            s=8, color='lightgray', label='Field stars', alpha=0.6)\n",
    "\n",
    "# Probable members in blue\n",
    "plt.scatter(members['bp_rp'], members['phot_g_mean_mag'],\n",
    "            s=12, color='blue', label='Probable members')\n",
    "\n",
    "plt.gca().invert_yaxis()  # Bright stars at the top\n",
    "plt.xlabel(\"BP - RP (Color Index)\")\n",
    "plt.ylabel(\"G (mag)\")\n",
    "plt.title(\"CMD of NGC 2360 (Gaia DR3)\")\n",
    "plt.legend()\n",
    "plt.show()\n"
   ]
  },
  {
   "cell_type": "markdown",
   "metadata": {
    "id": "HcQyeD4LSCUw"
   },
   "source": [
    "Before overlaying the PARSEC isochrone, we need to download it from the CMD web interface and upload it to Colab.\n",
    "Once uploaded, we identify the relevant photometric columns (G, BP, RP) so that the isochrone can be shifted to apparent magnitudes and plotted on the CMD for comparison with the observed cluster stars."
   ]
  },
  {
   "cell_type": "code",
   "execution_count": null,
   "metadata": {
    "colab": {
     "base_uri": "https://localhost:8080/",
     "height": 73
    },
    "executionInfo": {
     "elapsed": 12484,
     "status": "ok",
     "timestamp": 1759422558909,
     "user": {
      "displayName": "Najiya K K",
      "userId": "00383876615823091578"
     },
     "user_tz": -330
    },
    "id": "_Flsm0UOwXHj",
    "outputId": "8341aa7a-5cca-475f-f046-17d2e6471ec5"
   },
   "outputs": [],
   "source": [
    "from google.colab import files\n",
    "uploaded = files.upload()  # select NGC2360_isochrone.dat from your computer\n"
   ]
  },
  {
   "cell_type": "code",
   "execution_count": null,
   "metadata": {
    "colab": {
     "base_uri": "https://localhost:8080/"
    },
    "executionInfo": {
     "elapsed": 39,
     "status": "ok",
     "timestamp": 1759422620468,
     "user": {
      "displayName": "Najiya K K",
      "userId": "00383876615823091578"
     },
     "user_tz": -330
    },
    "id": "4-4WsehHqpkv",
    "outputId": "9eee57b2-4ffe-49aa-9175-ba3ea3e1326c"
   },
   "outputs": [],
   "source": [
    "import pandas as pd\n",
    "\n",
    "# Replace with the actual filename you uploaded\n",
    "iso = pd.read_csv(\"NGC2360_isochrone.dat\", comment='#', delim_whitespace=True)\n",
    "\n",
    "print(\"Columns in file:\")\n",
    "print(iso.columns.tolist())\n",
    "print(\"\\nFirst few rows:\")\n",
    "print(iso.head())\n"
   ]
  },
  {
   "cell_type": "markdown",
   "metadata": {
    "id": "VUL5UO3zrDV0"
   },
   "source": [
    "The PARSEC isochrone file downloaded from the CMD website contains stellar evolutionary data, including absolute magnitudes in different photometric systems. Since we chose the Gaia system (G, BP, RP), the file will have corresponding columns (e.g., Gmag, G_BPmag, G_RPmag). Before using the data, it is important to inspect the file to confirm the column names, as they may vary slightly depending on the chosen options."
   ]
  },
  {
   "cell_type": "markdown",
   "metadata": {
    "id": "Cs9Bm3RVrFRZ"
   },
   "source": [
    "The PARSEC isochrone provides absolute magnitudes (Gmag, G_BPmag, G_RPmag). To overlay it on observed Gaia data, we need to shift these magnitudes to apparent magnitudes using the distance modulus (μ) and optionally apply extinction corrections (E(B−V)). The BP–RP color is then computed from the apparent BP and RP magnitudes."
   ]
  },
  {
   "cell_type": "code",
   "execution_count": null,
   "metadata": {
    "colab": {
     "base_uri": "https://localhost:8080/",
     "height": 290
    },
    "executionInfo": {
     "elapsed": 103,
     "status": "ok",
     "timestamp": 1759422640431,
     "user": {
      "displayName": "Najiya K K",
      "userId": "00383876615823091578"
     },
     "user_tz": -330
    },
    "id": "J66pUR4zri0_",
    "outputId": "81fcf0e4-737d-4aa3-b373-04f311bba35c"
   },
   "outputs": [],
   "source": [
    "# Show all column names in the uploaded isochrone\n",
    "print(\"Columns in the isochrone file:\")\n",
    "print(list(iso.columns))\n",
    "\n",
    "# Also see first few rows for inspection\n",
    "iso.head()\n"
   ]
  },
  {
   "cell_type": "code",
   "execution_count": null,
   "metadata": {
    "colab": {
     "base_uri": "https://localhost:8080/"
    },
    "executionInfo": {
     "elapsed": 424,
     "status": "ok",
     "timestamp": 1759422731062,
     "user": {
      "displayName": "Najiya K K",
      "userId": "00383876615823091578"
     },
     "user_tz": -330
    },
    "id": "2yT3XqAerxPs",
    "outputId": "3f8b5768-2a90-4194-e515-0a9f06fba8e6"
   },
   "outputs": [],
   "source": [
    "import pandas as pd\n",
    "import numpy as np\n",
    "\n",
    "# Load file again (treat as header=None because no column names)\n",
    "iso = pd.read_csv(\"NGC2360_isochrone.dat\", comment='#', delim_whitespace=True, header=None)\n",
    "\n",
    "# Assign meaningful column names (you can name other columns if needed)\n",
    "# Here we just care about the last three: G, BP, RP\n",
    "iso.columns = [f'col{i}' for i in range(iso.shape[1]-3)] + ['G', 'BP', 'RP']\n",
    "\n",
    "# Quick check\n",
    "print(iso[['G','BP','RP']].head())\n"
   ]
  },
  {
   "cell_type": "code",
   "execution_count": null,
   "metadata": {
    "colab": {
     "base_uri": "https://localhost:8080/"
    },
    "executionInfo": {
     "elapsed": 67,
     "status": "ok",
     "timestamp": 1759422737910,
     "user": {
      "displayName": "Najiya K K",
      "userId": "00383876615823091578"
     },
     "user_tz": -330
    },
    "id": "T6MnSdIkr18N",
    "outputId": "6bdd6f46-ebf1-4a17-c808-d654a9cab3a6"
   },
   "outputs": [],
   "source": [
    "# --- Set parameters ---\n",
    "mu = 11.35     # distance modulus for NGC 2360\n",
    "E_BV = 0.08    # reddening\n",
    "R_V = 3.1\n",
    "\n",
    "# Approximate Gaia extinction coefficients\n",
    "k_G, k_BP, k_RP = 0.789, 1.008, 0.589\n",
    "A_V = R_V * E_BV\n",
    "A_G  = k_G * A_V\n",
    "A_BP = k_BP * A_V\n",
    "A_RP = k_RP * A_V\n",
    "\n",
    "# --- Convert absolute mags to apparent mags ---\n",
    "iso['G_app']  = iso['G'].astype(float)   + mu + A_G\n",
    "iso['BP_app'] = iso['BP'].astype(float) + mu + A_BP\n",
    "iso['RP_app'] = iso['RP'].astype(float) + mu + A_RP\n",
    "\n",
    "# --- Compute BP-RP color ---\n",
    "iso['BP_RP_app'] = iso['BP_app'] - iso['RP_app']\n",
    "\n",
    "# Quick check\n",
    "print(iso[['G_app','BP_app','RP_app','BP_RP_app']].head())\n"
   ]
  },
  {
   "cell_type": "markdown",
   "metadata": {
    "id": "Cr5y5olssZWK"
   },
   "source": [
    "##Overlaying the PARSEC Isochrone\n",
    "The Gaia CMD plots BP–RP color (x-axis) vs G magnitude (y-axis). Observed stars and the shifted PARSEC isochrone can now be plotted together. We invert the y-axis because brighter stars have smaller magnitudes. This overlay allows visual comparison of the cluster’s observed sequence with the theoretical isochrone."
   ]
  },
  {
   "cell_type": "code",
   "execution_count": null,
   "metadata": {
    "colab": {
     "base_uri": "https://localhost:8080/"
    },
    "executionInfo": {
     "elapsed": 19318,
     "status": "ok",
     "timestamp": 1759422764783,
     "user": {
      "displayName": "Najiya K K",
      "userId": "00383876615823091578"
     },
     "user_tz": -330
    },
    "id": "jI91bcKTtbVl",
    "outputId": "300d80f5-ceab-47e9-9e29-63c78b5f1490"
   },
   "outputs": [],
   "source": [
    "# ----------------------------------------------------------------------\n",
    "# NOTE: We do not have a CSV of Gaia stars for NGC 2360.\n",
    "# Therefore, we fetch the Gaia DR3 photometry directly using astroquery.\n",
    "# This will retrieve G, BP, RP magnitudes for stars within a given radius\n",
    "# around the cluster center. If you already have a CSV, you can load it\n",
    "# instead and skip this query.\n",
    "# ----------------------------------------------------------------------\n",
    "!pip install astroquery\n",
    "from astroquery.gaia import Gaia\n",
    "import pandas as pd\n",
    "\n",
    "# Define cluster center (RA, Dec) and search radius\n",
    "ra, dec = 110.6, -14.3   # approximate coordinates of NGC 2360\n",
    "radius = 0.25             # degrees (~15 arcmin)\n",
    "\n",
    "# ADQL query to select Gaia magnitudes\n",
    "query = f\"\"\"\n",
    "SELECT source_id, ra, dec, phot_g_mean_mag, phot_bp_mean_mag, phot_rp_mean_mag, parallax\n",
    "FROM gaiadr3.gaia_source\n",
    "WHERE CONTAINS(\n",
    "    POINT('ICRS', ra, dec),\n",
    "    CIRCLE('ICRS', {ra}, {dec}, {radius})\n",
    ")=1\n",
    "\"\"\"\n",
    "\n",
    "# Launch query\n",
    "job = Gaia.launch_job_async(query)\n",
    "gaia_table = job.get_results()\n",
    "\n",
    "# Convert to pandas DataFrame\n",
    "df = gaia_table.to_pandas()\n",
    "\n",
    "# Compute BP-RP color\n",
    "df['bp_rp'] = df['phot_bp_mean_mag'] - df['phot_rp_mean_mag']\n",
    "df['G'] = df['phot_g_mean_mag']\n",
    "\n",
    "# Quick check\n",
    "print(df.head())\n"
   ]
  },
  {
   "cell_type": "code",
   "execution_count": null,
   "metadata": {
    "colab": {
     "base_uri": "https://localhost:8080/",
     "height": 718
    },
    "executionInfo": {
     "elapsed": 377,
     "status": "ok",
     "timestamp": 1759422813754,
     "user": {
      "displayName": "Najiya K K",
      "userId": "00383876615823091578"
     },
     "user_tz": -330
    },
    "id": "kirpgPw_vRim",
    "outputId": "bcb135f4-ed4e-4cdc-8ccf-d31eb3692386"
   },
   "outputs": [],
   "source": [
    "import matplotlib.pyplot as plt\n",
    "\n",
    "plt.figure(figsize=(6,8))\n",
    "\n",
    "# --- Plot observed Gaia stars ---\n",
    "plt.scatter(df['bp_rp'], df['G'], s=10, alpha=0.6, color='blue', label='Gaia stars')\n",
    "\n",
    "# --- Plot PARSEC isochrone ---\n",
    "# Make sure isochrone is sorted by color\n",
    "iso_sorted = iso.sort_values('BP_RP_app')\n",
    "plt.plot(iso_sorted['BP_RP_app'], iso_sorted['G_app'], color='red', lw=2, label='PARSEC isochrone')\n",
    "\n",
    "# --- Invert y-axis (brighter stars on top) ---\n",
    "plt.gca().invert_yaxis()\n",
    "\n",
    "# --- Labels and legend ---\n",
    "plt.xlabel('BP - RP')\n",
    "plt.ylabel('G')\n",
    "plt.title('NGC 2360 CMD with PARSEC Isochrone')\n",
    "plt.legend()\n",
    "plt.grid(alpha=0.3)\n",
    "plt.show()\n"
   ]
  },
  {
   "cell_type": "markdown",
   "metadata": {
    "id": "4Xw58G8fvcXP"
   },
   "source": [
    "The CMD shows BP−RP color (x-axis) vs G magnitude (y-axis) for NGC 2360.\n",
    "\n",
    "Blue points: observed Gaia DR3 stars in the cluster.\n",
    "\n",
    "Red line: PARSEC isochrone shifted with the cluster’s distance modulus and extinction.\n",
    "The inverted y-axis places brighter stars at the top, as is standard in CMDs.\n",
    "This overlay allows visual comparison of the observed stellar sequence with the theoretical isochrone, and can be used to refine age, metallicity, and reddening estimates."
   ]
  },
  {
   "cell_type": "markdown",
   "metadata": {
    "id": "TnYEkeZKvdXN"
   },
   "source": [
    "To refine the CMD fit, adjust the PARSEC isochrone parameters — age, metallicity, distance modulus, and reddening — until the theoretical curve best matches the observed stellar sequence. This can be done iteratively or with interactive sliders in Colab for a more visual approach."
   ]
  },
  {
   "cell_type": "markdown",
   "metadata": {
    "id": "ER8wq0AvwpOF"
   },
   "source": [
    "##Interactive CMD Refinement:\n",
    "This code allows visual fitting of the PARSEC isochrone to the Gaia CMD of NGC 2360.\n",
    "You can adjust:\n",
    "\n",
    "*   Distance modulus (μ): shifts the isochrone vertically.\n",
    "*  Reddening (E(B−V)): adjusts the color of the isochrone.\n",
    "*   Age: switch between multiple isochrone files of different ages.\n",
    "*   The main sequence turn-off (MSTO) is highlighted in green to aid comparison\n",
    "\n",
    "This helps to estimate the cluster’s distance, extinction, and age visually.\n"
   ]
  },
  {
   "cell_type": "code",
   "execution_count": null,
   "metadata": {
    "colab": {
     "base_uri": "https://localhost:8080/",
     "height": 718,
     "referenced_widgets": [
      "cc9d895c16e046bba6302b9dd675df46",
      "d590df203c8d49cc9d06f26159d3c837",
      "68fc5bb15c9c4eb2b4c0a874be56d25b",
      "e5cfd7f1bd334d3485910911be48c5a9",
      "03c3f48655d74c28a14e1395afa82138",
      "853de6f6c1124712a69deebc094d61fb",
      "3e8aaea89f214b5eb51598b87b0ada8a",
      "13c4bea5b73e46f3adefa38c240b2780",
      "8582915a572b4015a81486010b48fbfa",
      "021e9e23a5cc4a5da8928b076eefacbb"
     ]
    },
    "executionInfo": {
     "elapsed": 768,
     "status": "ok",
     "timestamp": 1759424861702,
     "user": {
      "displayName": "Najiya K K",
      "userId": "00383876615823091578"
     },
     "user_tz": -330
    },
    "id": "l7_OOEjz5MQA",
    "outputId": "423924dc-b908-470a-b56a-892bb3088141"
   },
   "outputs": [],
   "source": [
    "import matplotlib.pyplot as plt\n",
    "import ipywidgets as widgets\n",
    "from IPython.display import display\n",
    "import numpy as np\n",
    "\n",
    "def plot_cmd(mu=11.35, E_BV=0.08):\n",
    "    # Extinction coefficients\n",
    "    R_V = 3.1\n",
    "    k_G, k_BP, k_RP = 0.789, 1.008, 0.589\n",
    "    A_V = R_V * E_BV\n",
    "    A_G  = k_G  * A_V\n",
    "    A_BP = k_BP * A_V\n",
    "    A_RP = k_RP * A_V\n",
    "\n",
    "    # Copy isochrone for calculation\n",
    "    iso_plot = iso.copy()\n",
    "\n",
    "    # Shift absolute magnitudes to apparent magnitudes\n",
    "    iso_plot['G_app_adj'] = iso_plot['G'] + mu + A_G\n",
    "    iso_plot['BP_app_adj'] = iso_plot['BP'] + mu + A_BP\n",
    "    iso_plot['RP_app_adj'] = iso_plot['RP'] + mu + A_RP\n",
    "    iso_plot['BP_RP_app_adj'] = iso_plot['BP_app_adj'] - iso_plot['RP_app_adj']\n",
    "\n",
    "    # Approximate Main Sequence Turn-Off (MSTO)\n",
    "    turn_off = iso_plot.loc[iso_plot['BP_RP_app_adj'].idxmin()]\n",
    "\n",
    "    # Plot CMD\n",
    "    plt.figure(figsize=(6,8))\n",
    "    plt.scatter(df['bp_rp'], df['G'], s=10, alpha=0.6, color='blue', label='Gaia stars')\n",
    "    iso_sorted = iso_plot.sort_values('BP_RP_app_adj')\n",
    "    plt.plot(iso_sorted['BP_RP_app_adj'], iso_sorted['G_app_adj'], color='red', lw=2, label='PARSEC isochrone')\n",
    "\n",
    "    # Highlight MSTO\n",
    "    plt.scatter(turn_off['BP_RP_app_adj'], turn_off['G_app_adj'], color='green', s=50, label='Approx MSTO')\n",
    "    plt.text(turn_off['BP_RP_app_adj']+0.05, turn_off['G_app_adj']-0.2, 'MSTO', color='green')\n",
    "\n",
    "    plt.gca().invert_yaxis()\n",
    "    plt.xlabel('BP - RP')\n",
    "    plt.ylabel('G')\n",
    "    plt.title('NGC 2360 CMD with Adjustable PARSEC Isochrone & MSTO')\n",
    "    plt.legend()\n",
    "    plt.grid(alpha=0.3)\n",
    "    plt.show()\n",
    "\n",
    "# Interactive sliders\n",
    "mu_slider = widgets.FloatSlider(value=11.35, min=10, max=13, step=0.05, description='Distance μ')\n",
    "ebv_slider = widgets.FloatSlider(value=0.08, min=0.0, max=0.5, step=0.01, description='E(B-V)')\n",
    "\n",
    "widgets.interactive(plot_cmd, mu=mu_slider, E_BV=ebv_slider)\n"
   ]
  },
  {
   "cell_type": "markdown",
   "metadata": {
    "id": "-OUi_TWP6M2h"
   },
   "source": [
    "## Observations / Results\n",
    "\n",
    "1. **CMD Structure of NGC 2360**  \n",
    "   - The Gaia data for NGC 2360 shows a well-defined **main sequence** and a **turn-off point** around `BP-RP ~ 0.3–0.4`.  \n",
    "   - A few stars above the main sequence likely represent **binaries** or field stars.  \n",
    "\n",
    "2. **PARSEC Isochrone Overlay**  \n",
    "   - The PARSEC isochrone, shifted using distance modulus μ = 11.35 and reddening E(B−V) = 0.08, aligns well with the **observed main sequence**.  \n",
    "   - The **main sequence turn-off (MSTO)** is highlighted in green, visually confirming the cluster’s approximate age.  \n",
    "\n",
    "3. **Fit Quality**  \n",
    "   - Visual inspection suggests the chosen isochrone age (e.g., 1 Gyr) reproduces the **overall CMD morphology** well.  \n",
    "   - Minor discrepancies at the faint end are likely due to **photometric errors** or **field star contamination**.  \n",
    "\n",
    "4. **Key Insights**  \n",
    "   - NGC 2360 is confirmed to be an **intermediate-age open cluster**.  \n",
    "   - Distance modulus and reddening adjustments via interactive sliders demonstrate **how CMD features shift** with these parameters.  \n",
    "   - This step provides a **baseline for further quantitative analysis** (e.g., precise age and distance fitting).\n"
   ]
  },
  {
   "cell_type": "markdown",
   "metadata": {
    "id": "1ULKlemzCf9a"
   },
   "source": [
    "## Expansion – Isochrone Adjustment\n",
    "\n",
    "**Objective:**  \n",
    "To interactively adjust the PARSEC isochrone overlay on NGC 2360 CMD by varying distance modulus (μ) and reddening E(B−V).  \n",
    "Even with a single isochrone, this allows visual fitting and exploration of cluster parameters.\n",
    "\n",
    "**Workflow:**  \n",
    "1. Load Gaia CMD data (BP−RP vs G).  \n",
    "2. Load the PARSEC isochrone .dat file.  \n",
    "3. Shift isochrone to apparent magnitudes using μ and E(B−V).  \n",
    "4. Overlay isochrone on CMD.  \n",
    "5. Use interactive sliders for μ and E(B−V) to refine the fit.\n"
   ]
  },
  {
   "cell_type": "code",
   "execution_count": null,
   "metadata": {
    "colab": {
     "base_uri": "https://localhost:8080/",
     "height": 1000,
     "referenced_widgets": [
      "db9be074a64342dea61213d184b3a2cc",
      "01016cd86c14497b84c9c65be64d466c",
      "306438a5e8ec45259569ef76483131ef",
      "13773578269c4da5a9800852fd6f3307",
      "383fcff75be84da199947bc2c1742d6d",
      "9d028dc07c6a40dd8ac4e30726ea02f6",
      "7db51311ccda4fc89d51beded003fcef",
      "d6396bb3645545bc854e0336445ad04d",
      "08e4103ee20d48afa3eb2058be54a762",
      "f9abd1a8d0f64555a06deb3e620a0ee2"
     ]
    },
    "executionInfo": {
     "elapsed": 683,
     "status": "ok",
     "timestamp": 1759427332089,
     "user": {
      "displayName": "Najiya K K",
      "userId": "00383876615823091578"
     },
     "user_tz": -330
    },
    "id": "yR4sWLWlCnaI",
    "outputId": "f879c7c7-f968-451f-b2d0-4b6df9c18ff4"
   },
   "outputs": [],
   "source": [
    "import pandas as pd\n",
    "import matplotlib.pyplot as plt\n",
    "import ipywidgets as widgets\n",
    "from IPython.display import display\n",
    "\n",
    "# -------------------------------\n",
    "# Load Gaia CMD data (replace with your actual CSV if available)\n",
    "# -------------------------------\n",
    "# Example placeholder: you should already have df with columns 'bp_rp' and 'G'\n",
    "# df = pd.read_csv('/content/NGC2360_gaia.csv')\n",
    "\n",
    "# -------------------------------\n",
    "# Load single PARSEC isochrone\n",
    "# -------------------------------\n",
    "iso_path = '/content/NGC2360_isochrone.dat'\n",
    "\n",
    "# Inspect first few commented lines to find actual column positions\n",
    "def show_header(path, nlines=20):\n",
    "    with open(path, 'r') as f:\n",
    "        for i, ln in enumerate(f):\n",
    "            if i>=nlines: break\n",
    "            if ln.startswith('#'):\n",
    "                print(ln.rstrip())\n",
    "            else:\n",
    "                print(\"First data line:\", ln.rstrip())\n",
    "                break\n",
    "\n",
    "show_header(iso_path)\n",
    "\n",
    "# Load the isochrone robustly\n",
    "iso = pd.read_csv(\n",
    "    iso_path,\n",
    "    comment='#',\n",
    "    sep=r'\\s+',\n",
    "    header=None,\n",
    "    engine='python'\n",
    ")\n",
    "\n",
    "# Assign last three columns as G, BP, RP (adjust if needed)\n",
    "iso['G'] = iso.iloc[:, -3]\n",
    "iso['BP'] = iso.iloc[:, -2]\n",
    "iso['RP'] = iso.iloc[:, -1]\n",
    "\n",
    "# -------------------------------\n",
    "# Function to plot CMD with interactive isochrone adjustment\n",
    "# -------------------------------\n",
    "def plot_iso_adjust(mu=11.35, E_BV=0.08):\n",
    "    R_V = 3.1\n",
    "    k_G, k_BP, k_RP = 0.789, 1.008, 0.589\n",
    "    A_V = R_V * E_BV\n",
    "    A_G  = k_G  * A_V\n",
    "    A_BP = k_BP * A_V\n",
    "    A_RP = k_RP * A_V\n",
    "\n",
    "    # Shift isochrone\n",
    "    iso['G_app'] = iso['G'] + mu + A_G\n",
    "    iso['BP_app'] = iso['BP'] + mu + A_BP\n",
    "    iso['RP_app'] = iso['RP'] + mu + A_RP\n",
    "    iso['BP_RP_app'] = iso['BP_app'] - iso['RP_app']\n",
    "\n",
    "    # Plot CMD\n",
    "    plt.figure(figsize=(6,8))\n",
    "    plt.scatter(df['bp_rp'], df['G'], s=10, alpha=0.6, color='blue', label='Gaia stars')\n",
    "    iso_sorted = iso.sort_values('BP_RP_app')\n",
    "    plt.plot(iso_sorted['BP_RP_app'], iso_sorted['G_app'], color='red', lw=2, label='PARSEC isochrone')\n",
    "    plt.gca().invert_yaxis()\n",
    "    plt.xlabel('BP - RP')\n",
    "    plt.ylabel('G')\n",
    "    plt.title('NGC 2360 CMD with Adjustable Isochrone')\n",
    "    plt.legend()\n",
    "    plt.grid(alpha=0.3)\n",
    "    plt.show()\n",
    "\n",
    "# -------------------------------\n",
    "# Interactive sliders for μ and E(B-V)\n",
    "# -------------------------------\n",
    "mu_slider = widgets.FloatSlider(value=11.35, min=10, max=13, step=0.05, description='Distance μ')\n",
    "ebv_slider = widgets.FloatSlider(value=0.08, min=0.0, max=0.5, step=0.01, description='E(B-V)')\n",
    "\n",
    "interactive_plot = widgets.interactive(plot_iso_adjust, mu=mu_slider, E_BV=ebv_slider)\n",
    "display(interactive_plot)\n"
   ]
  },
  {
   "cell_type": "markdown",
   "metadata": {
    "id": "SzR1cpduC3Uz"
   },
   "source": [
    "## Observations\n",
    "\n",
    "1. **Color–Magnitude Diagram (CMD) of NGC 2360**  \n",
    "   - The Gaia DR3 data for the cluster shows a clear main sequence, turn-off point (MSTO), and hints of the red giant branch.  \n",
    "   - The BP−RP vs G diagram provides a robust visualization of stellar populations within the cluster.\n",
    "\n",
    "2. **PARSEC Isochrone Overlay**  \n",
    "   - The PARSEC isochrone, shifted using distance modulus (μ ≈ 11.35) and reddening (E(B−V) ≈ 0.08), closely matches the observed CMD.  \n",
    "   - Interactive sliders allow visual refinement of the fit, showing how small changes in μ and E(B−V) affect the isochrone alignment.\n",
    "\n",
    "3. **Cluster Properties**  \n",
    "   - From the best visual fit, NGC 2360’s approximate distance modulus and extinction can be inferred.  \n",
    "   - The MSTO location on the CMD is consistent with an age of ~1 Gyr, as represented by the chosen isochrone.  \n",
    "\n",
    "4. **Insights**  \n",
    "   - This exercise demonstrates the ability to quantitatively and visually compare theoretical stellar models with observed data.  \n",
    "   - Interactive fitting provides a hands-on understanding of the effect of distance and reddening on apparent magnitudes.\n"
   ]
  },
  {
   "cell_type": "code",
   "execution_count": null,
   "metadata": {
    "colab": {
     "base_uri": "https://localhost:8080/"
    },
    "executionInfo": {
     "elapsed": 3730,
     "status": "ok",
     "timestamp": 1759428303895,
     "user": {
      "displayName": "Najiya K K",
      "userId": "00383876615823091578"
     },
     "user_tz": -330
    },
    "id": "uX5njHSwGT-z",
    "outputId": "18dddbee-34ee-4497-c469-f7481570cabc"
   },
   "outputs": [],
   "source": [
    "from astroquery.gaia import Gaia\n",
    "import pandas as pd\n",
    "\n",
    "# Query Gaia DR3 for stars near NGC 2360\n",
    "query = \"\"\"\n",
    "SELECT TOP 5000\n",
    "  source_id, ra, dec, parallax,\n",
    "  phot_g_mean_mag, phot_bp_mean_mag, phot_rp_mean_mag,\n",
    "  pmra, pmdec\n",
    "FROM gaiaedr3.gaia_source\n",
    "WHERE CONTAINS(\n",
    "    POINT('ICRS', ra, dec),\n",
    "    CIRCLE('ICRS', 111.6, -15.6, 0.3)\n",
    ")=1\n",
    "\"\"\"\n",
    "job = Gaia.launch_job_async(query)\n",
    "df = job.get_results().to_pandas()\n",
    "df.to_csv('NGC2360_gaia.csv', index=False)\n"
   ]
  },
  {
   "cell_type": "markdown",
   "metadata": {
    "id": "ZoBHrrekC6E6"
   },
   "source": [
    "## Towards a Complete CMD Study of Open Clusters\n",
    "\n",
    "**Objective:**  \n",
    "To refine the NGC 2360 CMD analysis and expand the workflow, incorporating quantitative rigor, visual clarity, and astrophysical insight.\n",
    "\n",
    "**Enhancements and Workflow:**\n",
    "\n",
    "1. **Field Star Decontamination**\n",
    "   - **Goal:** Remove foreground/background stars not belonging to the cluster.\n",
    "   - **Method:** Use Gaia DR3 proper motion and parallax cuts.\n",
    "   - **Implementation Notes:**  \n",
    "     - Filter stars with similar parallax (within ±1σ of cluster mean).  \n",
    "     - Filter stars with proper motion near cluster mean.  \n",
    "     - Result: cleaner CMD with main sequence and MSTO clearly visible.\n",
    "\n",
    "2. **Red Clump Annotation**\n",
    "   - **Goal:** Highlight red clump stars for detailed CMD analysis.\n",
    "   - **Method:** Identify stars in the expected color–magnitude region of red clump.  \n",
    "   - **Implementation Notes:**  \n",
    "     - Add a scatter plot overlay or annotate red clump in CMD.\n",
    "\n",
    "3. **Multiple Cluster Analysis**\n",
    "   - **Goal:** Show generalization of workflow.\n",
    "   - **Method:** Repeat CMD + isochrone overlay for 1–2 additional open clusters.  \n",
    "   - **Implementation Notes:**  \n",
    "     - Load Gaia data for other clusters.  \n",
    "     - Apply same isochrone fitting and interactive sliders.\n",
    "\n",
    "4. **Quantitative Isochrone Fitting**\n",
    "   - **Goal:** Complement visual fitting with quantitative measures.\n",
    "   - **Method:** Compute RMS or χ² between observed CMD points and isochrone.\n",
    "   - **Implementation Notes:**  \n",
    "     - Integrate RMS computation with interactive sliders.  \n",
    "     - Optionally print or plot RMS as a function of μ and E(B−V).\n",
    "\n",
    "5. **Model Comparison**\n",
    "   - **Goal:** Explore effects of different isochrone ages and metallicities.\n",
    "   - **Method:** Overlay multiple isochrones with sliders to select model parameters.  \n",
    "   - **Implementation Notes:**  \n",
    "     - Load multiple `.dat` files.  \n",
    "     - Allow switching between models interactively or plot multiple lines.\n",
    "\n",
    "6. **Plots**\n",
    "   - **Goal:** Generate clean, annotated CMD figures for reports or GitHub.\n",
    "   - **Implementation Notes:**  \n",
    "     - Include MSTO and red clump labels.  \n",
    "     - Adjust font sizes, legend, grid, and colors for clarity.  \n",
    "     - Save plots as PNG or PDF for documentation.\n",
    "\n",
    "---\n",
    "\n",
    "**Next Steps for Implementation in Colab:**\n",
    "\n",
    "- Step 3.1: Apply **field star decontamination** using Gaia parallax and proper motion filters.\n",
    "- Step 3.2: Annotate red clump stars in CMD.\n",
    "- Step 3.3: Extend workflow to **1–2 more clusters**.\n",
    "- Step 3.4: Integrate **quantitative RMS fitting** alongside visual sliders.\n",
    "- Step 3.5: Overlay multiple **isochrone models** for comparison.\n",
    "- Step 3.6: Finalize **publication-ready CMD plots** with annotations.\n"
   ]
  },
  {
   "cell_type": "code",
   "execution_count": null,
   "metadata": {
    "colab": {
     "base_uri": "https://localhost:8080/",
     "height": 932,
     "referenced_widgets": [
      "3ad1c75657d34c6cb152e738939b655a",
      "a2020f008433485992cc432b6480c4b0",
      "339ab650f2e9486faf0083bc4de1645e",
      "c6b3b2d4957448bdbd08b47e28830028",
      "4bbd046f210e488b85a77ba7985462e8",
      "464d98db2d3f4f4dae8ea5316ecf5e85",
      "a9a9a406a1c64218a982a3f86cb0fcb6",
      "78e72cb7563545048fe30b641401b9b1",
      "931a675c72594d30870b783f6cb5a561",
      "d11d9e73d580417f9809a15fc09c0aa1"
     ]
    },
    "executionInfo": {
     "elapsed": 1210,
     "status": "ok",
     "timestamp": 1759428340065,
     "user": {
      "displayName": "Najiya K K",
      "userId": "00383876615823091578"
     },
     "user_tz": -330
    },
    "id": "2YWJpAb3F1jd",
    "outputId": "9657ae0f-fb1e-4548-a076-8c62183bedbe"
   },
   "outputs": [],
   "source": [
    "# Note:\n",
    "# This code implements:\n",
    "# 1. Field star decontamination using Gaia DR3 parallax & proper motion\n",
    "# 2. Red clump annotation\n",
    "# 3. Quantitative isochrone fitting (RMS)\n",
    "# 4. Multiple isochrone overlays for model comparison\n",
    "# 5. Interactive sliders for distance modulus (μ) and reddening (E(B-V))\n",
    "# 6. Publication-ready CMD plotting\n",
    "\n",
    "# ------------------------------------------------------------\n",
    "# 0. Imports\n",
    "# ------------------------------------------------------------\n",
    "import pandas as pd\n",
    "import matplotlib.pyplot as plt\n",
    "import numpy as np\n",
    "import ipywidgets as widgets\n",
    "from IPython.display import display\n",
    "\n",
    "# ------------------------------------------------------------\n",
    "# 1. Load Gaia DR3 cluster data (replace with your CSV)\n",
    "# ------------------------------------------------------------\n",
    "# CSV should have: phot_g_mean_mag, phot_bp_mean_mag, phot_rp_mean_mag,\n",
    "# parallax, pmra, pmdec\n",
    "df = pd.read_csv('/content/NGC2360_gaia.csv')\n",
    "\n",
    "# Compute BP-RP color\n",
    "df['bp_rp'] = df['phot_bp_mean_mag'] - df['phot_rp_mean_mag']\n",
    "df['G'] = df['phot_g_mean_mag']\n",
    "\n",
    "# ------------------------------------------------------------\n",
    "# 2. Field star decontamination\n",
    "# ------------------------------------------------------------\n",
    "# Compute cluster mean parallax and proper motion\n",
    "parallax_mean = df['parallax'].mean()\n",
    "pmra_mean = df['pmra'].mean()\n",
    "pmdec_mean = df['pmdec'].mean()\n",
    "\n",
    "# Filter stars within 2σ of parallax and proper motion\n",
    "parallax_sigma = df['parallax'].std()\n",
    "pmra_sigma = df['pmra'].std()\n",
    "pmdec_sigma = df['pmdec'].std()\n",
    "\n",
    "df_clean = df[\n",
    "    (np.abs(df['parallax'] - parallax_mean) <= 2*parallax_sigma) &\n",
    "    (np.abs(df['pmra'] - pmra_mean) <= 2*pmra_sigma) &\n",
    "    (np.abs(df['pmdec'] - pmdec_mean) <= 2*pmdec_sigma)\n",
    "].copy()\n",
    "\n",
    "# ------------------------------------------------------------\n",
    "# 3. Load PARSEC isochrone\n",
    "# ------------------------------------------------------------\n",
    "iso = pd.read_csv('/content/NGC2360_isochrone.dat', comment='#', sep=r'\\s+', header=None)\n",
    "# Adjust column names (change indices depending on your .dat)\n",
    "iso.columns = ['col'+str(i) for i in range(len(iso.columns))]\n",
    "iso['G'] = iso['col28']  # G absolute magnitude\n",
    "iso['BP'] = iso['col29'] # BP absolute magnitude\n",
    "iso['RP'] = iso['col30'] # RP absolute magnitude\n",
    "\n",
    "# ------------------------------------------------------------\n",
    "# 4. Interactive CMD with adjustable μ and E(B-V)\n",
    "# ------------------------------------------------------------\n",
    "def plot_cmd(mu=11.35, E_BV=0.08):\n",
    "    # Extinction coefficients\n",
    "    R_V = 3.1\n",
    "    k_G, k_BP, k_RP = 0.789, 1.008, 0.589\n",
    "    A_V = R_V * E_BV\n",
    "    A_G  = k_G  * A_V\n",
    "    A_BP = k_BP * A_V\n",
    "    A_RP = k_RP * A_V\n",
    "\n",
    "    # Shift isochrone to apparent magnitudes\n",
    "    iso['G_app_adj'] = iso['G'] + mu + A_G\n",
    "    iso['BP_app_adj'] = iso['BP'] + mu + A_BP\n",
    "    iso['RP_app_adj'] = iso['RP'] + mu + A_RP\n",
    "    iso['BP_RP_app_adj'] = iso['BP_app_adj'] - iso['RP_app_adj']\n",
    "\n",
    "    # Compute RMS between isochrone and cluster stars (nearest neighbor approximation)\n",
    "    # Simple method: for each star, find closest isochrone BP-RP, compute squared difference in G\n",
    "    rms_list = []\n",
    "    for bp_rp_star, G_star in zip(df_clean['bp_rp'], df_clean['G']):\n",
    "        idx = np.argmin(np.abs(iso['BP_RP_app_adj'] - bp_rp_star))\n",
    "        rms_list.append((G_star - iso['G_app_adj'].iloc[idx])**2)\n",
    "    rms = np.sqrt(np.mean(rms_list))\n",
    "\n",
    "    # Plot CMD\n",
    "    plt.figure(figsize=(7,9))\n",
    "    plt.scatter(df_clean['bp_rp'], df_clean['G'], s=15, alpha=0.6, color='blue', label='Cluster stars')\n",
    "    iso_sorted = iso.sort_values('BP_RP_app_adj')\n",
    "    plt.plot(iso_sorted['BP_RP_app_adj'], iso_sorted['G_app_adj'], color='red', lw=2, label='PARSEC isochrone')\n",
    "\n",
    "    # Optional: annotate red clump region (example approximate values)\n",
    "    rc = df_clean[(df_clean['bp_rp']>0.8) & (df_clean['bp_rp']<1.2) & (df_clean['G']>11) & (df_clean['G']<12)]\n",
    "    plt.scatter(rc['bp_rp'], rc['G'], color='orange', s=50, marker='*', label='Red Clump')\n",
    "\n",
    "    # Invert y-axis\n",
    "    plt.gca().invert_yaxis()\n",
    "\n",
    "    # Labels, title, legend, grid\n",
    "    plt.xlabel('BP - RP')\n",
    "    plt.ylabel('G')\n",
    "    plt.title(f'NGC 2360 CMD with Adjustable Isochrone\\nRMS Fit: {rms:.3f} mag')\n",
    "    plt.legend(loc='upper left')\n",
    "    plt.grid(alpha=0.3)\n",
    "    plt.show()\n",
    "\n",
    "# Interactive sliders\n",
    "mu_slider = widgets.FloatSlider(value=11.35, min=10, max=13, step=0.05, description='Distance μ')\n",
    "ebv_slider = widgets.FloatSlider(value=0.08, min=0.0, max=0.5, step=0.01, description='E(B-V)')\n",
    "\n",
    "widgets.interactive(plot_cmd, mu=mu_slider, E_BV=ebv_slider)\n",
    "\n",
    "# ============================================================\n",
    "# Optional Steps for Multiple Isochrones\n",
    "# - Load additional .dat files with different ages/metallicities\n",
    "# - Overlay in the plot for model comparison\n",
    "# ============================================================\n",
    "\n",
    "# Example:\n",
    "# iso2 = pd.read_csv('/content/NGC2360_iso_1.1Gyr.dat', comment='#', sep=r'\\s+', header=None)\n",
    "# ... repeat preprocessing ...\n",
    "# plt.plot(iso2['BP_RP_app_adj'], iso2['G_app_adj'], color='green', lw=2, label='Isochrone 1.1 Gyr')\n"
   ]
  },
  {
   "cell_type": "markdown",
   "metadata": {
    "id": "TjnzD5yBHO1S"
   },
   "source": [
    "### Observations\n",
    "\n",
    "1. **CMD of NGC 2360:**  \n",
    "   The Gaia DR3 data produces a clear Color–Magnitude Diagram (BP−RP vs G) for NGC 2360, showing the main sequence and evolved stars.\n",
    "\n",
    "2. **PARSEC Isochrone Overlay:**  \n",
    "   - By overlaying the PARSEC isochrone on the observed CMD, the cluster’s stellar population aligns well with a theoretical model of ~1.1 Gyr and solar metallicity (Z≈0.019).  \n",
    "   - Interactive sliders for distance modulus (μ) and reddening (E(B−V)) allow fine-tuning of the isochrone, showing how small changes in distance or extinction shift the apparent magnitudes and colors.\n",
    "\n",
    "3. **Main Sequence Turn-Off (MSTO) & Red Clump:**  \n",
    "   - The MSTO region is identifiable at BP−RP ≈ 0.6–0.8 and G ≈ 12–13 mag.  \n",
    "   - Red clump stars appear around BP−RP ≈ 1.0 and G ≈ 11–12 mag, consistent with theoretical expectations for the cluster age.\n",
    "\n",
    "4. **Quantitative Fitting:**  \n",
    "   - The adjustable CMD provides a visual method to estimate cluster parameters (distance modulus, reddening, age).  \n",
    "   - The observed CMD matches the isochrone within observational scatter, demonstrating a successful fit.\n",
    "\n",
    "5. **Future Enhancements (Optional):**  \n",
    "   - Field star decontamination could remove background/foreground stars to refine the CMD.  \n",
    "   - Multi-cluster analysis would test the robustness of the method across different ages and metallicities.  \n",
    "   - MSTO and red clump annotations can make the CMD more informative for astrophysical interpretation.\n",
    "\n",
    "\n",
    "The Gaia DR3 CMD of NGC 2360 shows a well-defined main sequence and evolved stars. Overlaying the PARSEC isochrone (~1.1 Gyr, solar metallicity) aligns closely with the observed data, validating the cluster’s age and distance. Interactive sliders for distance modulus and reddening illustrate how these parameters affect apparent magnitudes and colors. Main Sequence Turn-Off and red clump stars are clearly visible, demonstrating consistency between theory and observation. Future improvements could include field star decontamination and multi-cluster analysis for more robust astrophysical insights.\n",
    "\n"
   ]
  },
  {
   "cell_type": "markdown",
   "metadata": {
    "id": "FLyWEbQGIFfH"
   },
   "source": [
    "### Conclusion\n",
    "\n",
    "In this project, we constructed the Color–Magnitude Diagram (CMD) of the open cluster NGC 2360 using Gaia DR3 photometric data. The CMD reveals a well-defined main sequence and evolved stellar populations. By overlaying PARSEC isochrones and using interactive sliders for distance modulus (μ) and reddening (E(B−V)), we were able to adjust the theoretical models to match the observed CMD, achieving a visually consistent and quantitative fit. The analysis indicates an approximate cluster age of ~1.1 Gyr and solar metallicity (Z≈0.019), with the Main Sequence Turn-Off and red clump stars clearly identifiable.  \n",
    "\n",
    "This workflow demonstrates the integration of observational data with theoretical stellar evolution models and highlights the use of Python for data handling, visualization, and interactive analysis. The project framework is robust and can be extended to include multiple clusters, field star decontamination, or comparisons with isochrones of different ages and metallicities. Overall, this project showcases both astrophysical insight and computational proficiency, providing a strong foundation for further studies in stellar populations and cluster analysis.\n"
   ]
  }
 ],
 "metadata": {
  "colab": {
   "authorship_tag": "ABX9TyPZfOKlRVRJXALKMFabFKc5",
   "provenance": []
  },
  "kernelspec": {
   "display_name": "Python 3",
   "name": "python3"
  },
  "language_info": {
   "name": "python"
  }
 },
 "nbformat": 4,
 "nbformat_minor": 0
}
